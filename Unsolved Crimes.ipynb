{
 "cells": [
  {
   "cell_type": "markdown",
   "metadata": {},
   "source": [
    "# Ben Schaeffer\n",
    "## Unsolved Crimes\n",
    "\n",
    "The question i'm looking to answer with this analysis is which crimes have the highest rates of being unsolved.  We do this by analyzing a dataset built from the crimes in San Francisco in the year 2016"
   ]
  },
  {
   "cell_type": "code",
   "execution_count": 1,
   "metadata": {},
   "outputs": [],
   "source": [
    "import pandas as pd\n",
    "import numpy as np"
   ]
  },
  {
   "cell_type": "code",
   "execution_count": 5,
   "metadata": {},
   "outputs": [
    {
     "data": {
      "text/html": [
       "<div>\n",
       "<style scoped>\n",
       "    .dataframe tbody tr th:only-of-type {\n",
       "        vertical-align: middle;\n",
       "    }\n",
       "\n",
       "    .dataframe tbody tr th {\n",
       "        vertical-align: top;\n",
       "    }\n",
       "\n",
       "    .dataframe thead th {\n",
       "        text-align: right;\n",
       "    }\n",
       "</style>\n",
       "<table border=\"1\" class=\"dataframe\">\n",
       "  <thead>\n",
       "    <tr style=\"text-align: right;\">\n",
       "      <th></th>\n",
       "      <th>IncidntNum</th>\n",
       "      <th>Category</th>\n",
       "      <th>Descript</th>\n",
       "      <th>DayOfWeek</th>\n",
       "      <th>Date</th>\n",
       "      <th>Time</th>\n",
       "      <th>PdDistrict</th>\n",
       "      <th>Resolution</th>\n",
       "      <th>Address</th>\n",
       "      <th>X</th>\n",
       "      <th>Y</th>\n",
       "      <th>Location</th>\n",
       "      <th>PdId</th>\n",
       "    </tr>\n",
       "  </thead>\n",
       "  <tbody>\n",
       "    <tr>\n",
       "      <th>0</th>\n",
       "      <td>120058272</td>\n",
       "      <td>WEAPON LAWS</td>\n",
       "      <td>POSS OF PROHIBITED WEAPON</td>\n",
       "      <td>Friday</td>\n",
       "      <td>01/29/2016 12:00:00 AM</td>\n",
       "      <td>11:00</td>\n",
       "      <td>SOUTHERN</td>\n",
       "      <td>ARREST, BOOKED</td>\n",
       "      <td>800 Block of BRYANT ST</td>\n",
       "      <td>-122.403405</td>\n",
       "      <td>37.775421</td>\n",
       "      <td>(37.775420706711, -122.403404791479)</td>\n",
       "      <td>12005827212120</td>\n",
       "    </tr>\n",
       "    <tr>\n",
       "      <th>1</th>\n",
       "      <td>120058272</td>\n",
       "      <td>WEAPON LAWS</td>\n",
       "      <td>FIREARM, LOADED, IN VEHICLE, POSSESSION OR USE</td>\n",
       "      <td>Friday</td>\n",
       "      <td>01/29/2016 12:00:00 AM</td>\n",
       "      <td>11:00</td>\n",
       "      <td>SOUTHERN</td>\n",
       "      <td>ARREST, BOOKED</td>\n",
       "      <td>800 Block of BRYANT ST</td>\n",
       "      <td>-122.403405</td>\n",
       "      <td>37.775421</td>\n",
       "      <td>(37.775420706711, -122.403404791479)</td>\n",
       "      <td>12005827212168</td>\n",
       "    </tr>\n",
       "    <tr>\n",
       "      <th>2</th>\n",
       "      <td>141059263</td>\n",
       "      <td>WARRANTS</td>\n",
       "      <td>WARRANT ARREST</td>\n",
       "      <td>Monday</td>\n",
       "      <td>04/25/2016 12:00:00 AM</td>\n",
       "      <td>14:59</td>\n",
       "      <td>BAYVIEW</td>\n",
       "      <td>ARREST, BOOKED</td>\n",
       "      <td>KEITH ST / SHAFTER AV</td>\n",
       "      <td>-122.388856</td>\n",
       "      <td>37.729981</td>\n",
       "      <td>(37.7299809672996, -122.388856204292)</td>\n",
       "      <td>14105926363010</td>\n",
       "    </tr>\n",
       "    <tr>\n",
       "      <th>3</th>\n",
       "      <td>160013662</td>\n",
       "      <td>NON-CRIMINAL</td>\n",
       "      <td>LOST PROPERTY</td>\n",
       "      <td>Tuesday</td>\n",
       "      <td>01/05/2016 12:00:00 AM</td>\n",
       "      <td>23:50</td>\n",
       "      <td>TENDERLOIN</td>\n",
       "      <td>NONE</td>\n",
       "      <td>JONES ST / OFARRELL ST</td>\n",
       "      <td>-122.412971</td>\n",
       "      <td>37.785788</td>\n",
       "      <td>(37.7857883766888, -122.412970537591)</td>\n",
       "      <td>16001366271000</td>\n",
       "    </tr>\n",
       "    <tr>\n",
       "      <th>4</th>\n",
       "      <td>160002740</td>\n",
       "      <td>NON-CRIMINAL</td>\n",
       "      <td>LOST PROPERTY</td>\n",
       "      <td>Friday</td>\n",
       "      <td>01/01/2016 12:00:00 AM</td>\n",
       "      <td>00:30</td>\n",
       "      <td>MISSION</td>\n",
       "      <td>NONE</td>\n",
       "      <td>16TH ST / MISSION ST</td>\n",
       "      <td>-122.419672</td>\n",
       "      <td>37.765050</td>\n",
       "      <td>(37.7650501214668, -122.419671780296)</td>\n",
       "      <td>16000274071000</td>\n",
       "    </tr>\n",
       "  </tbody>\n",
       "</table>\n",
       "</div>"
      ],
      "text/plain": [
       "   IncidntNum      Category                                        Descript  \\\n",
       "0   120058272   WEAPON LAWS                       POSS OF PROHIBITED WEAPON   \n",
       "1   120058272   WEAPON LAWS  FIREARM, LOADED, IN VEHICLE, POSSESSION OR USE   \n",
       "2   141059263      WARRANTS                                  WARRANT ARREST   \n",
       "3   160013662  NON-CRIMINAL                                   LOST PROPERTY   \n",
       "4   160002740  NON-CRIMINAL                                   LOST PROPERTY   \n",
       "\n",
       "  DayOfWeek                    Date   Time  PdDistrict      Resolution  \\\n",
       "0    Friday  01/29/2016 12:00:00 AM  11:00    SOUTHERN  ARREST, BOOKED   \n",
       "1    Friday  01/29/2016 12:00:00 AM  11:00    SOUTHERN  ARREST, BOOKED   \n",
       "2    Monday  04/25/2016 12:00:00 AM  14:59     BAYVIEW  ARREST, BOOKED   \n",
       "3   Tuesday  01/05/2016 12:00:00 AM  23:50  TENDERLOIN            NONE   \n",
       "4    Friday  01/01/2016 12:00:00 AM  00:30     MISSION            NONE   \n",
       "\n",
       "                  Address           X          Y  \\\n",
       "0  800 Block of BRYANT ST -122.403405  37.775421   \n",
       "1  800 Block of BRYANT ST -122.403405  37.775421   \n",
       "2   KEITH ST / SHAFTER AV -122.388856  37.729981   \n",
       "3  JONES ST / OFARRELL ST -122.412971  37.785788   \n",
       "4    16TH ST / MISSION ST -122.419672  37.765050   \n",
       "\n",
       "                                Location            PdId  \n",
       "0   (37.775420706711, -122.403404791479)  12005827212120  \n",
       "1   (37.775420706711, -122.403404791479)  12005827212168  \n",
       "2  (37.7299809672996, -122.388856204292)  14105926363010  \n",
       "3  (37.7857883766888, -122.412970537591)  16001366271000  \n",
       "4  (37.7650501214668, -122.419671780296)  16000274071000  "
      ]
     },
     "execution_count": 5,
     "metadata": {},
     "output_type": "execute_result"
    }
   ],
   "source": [
    "data = pd.read_csv('policeData.csv')\n",
    "data.head()"
   ]
  },
  {
   "cell_type": "markdown",
   "metadata": {},
   "source": [
    "Here we are cleaning the dataset, we drop the columns we dont need, as well as scrubbing some crimes that we wont use in our analysis, such as non-criminal, and missing person. We then print out the head to make sure the data looks like we want."
   ]
  },
  {
   "cell_type": "code",
   "execution_count": 6,
   "metadata": {
    "scrolled": true
   },
   "outputs": [
    {
     "data": {
      "text/html": [
       "<div>\n",
       "<style scoped>\n",
       "    .dataframe tbody tr th:only-of-type {\n",
       "        vertical-align: middle;\n",
       "    }\n",
       "\n",
       "    .dataframe tbody tr th {\n",
       "        vertical-align: top;\n",
       "    }\n",
       "\n",
       "    .dataframe thead th {\n",
       "        text-align: right;\n",
       "    }\n",
       "</style>\n",
       "<table border=\"1\" class=\"dataframe\">\n",
       "  <thead>\n",
       "    <tr style=\"text-align: right;\">\n",
       "      <th></th>\n",
       "      <th>IncidntNum</th>\n",
       "      <th>Category</th>\n",
       "      <th>Descript</th>\n",
       "      <th>Resolution</th>\n",
       "    </tr>\n",
       "  </thead>\n",
       "  <tbody>\n",
       "    <tr>\n",
       "      <th>0</th>\n",
       "      <td>120058272</td>\n",
       "      <td>WEAPON LAWS</td>\n",
       "      <td>POSS OF PROHIBITED WEAPON</td>\n",
       "      <td>ARREST, BOOKED</td>\n",
       "    </tr>\n",
       "    <tr>\n",
       "      <th>1</th>\n",
       "      <td>120058272</td>\n",
       "      <td>WEAPON LAWS</td>\n",
       "      <td>FIREARM, LOADED, IN VEHICLE, POSSESSION OR USE</td>\n",
       "      <td>ARREST, BOOKED</td>\n",
       "    </tr>\n",
       "    <tr>\n",
       "      <th>2</th>\n",
       "      <td>141059263</td>\n",
       "      <td>WARRANTS</td>\n",
       "      <td>WARRANT ARREST</td>\n",
       "      <td>ARREST, BOOKED</td>\n",
       "    </tr>\n",
       "    <tr>\n",
       "      <th>5</th>\n",
       "      <td>160002869</td>\n",
       "      <td>ASSAULT</td>\n",
       "      <td>BATTERY</td>\n",
       "      <td>NONE</td>\n",
       "    </tr>\n",
       "    <tr>\n",
       "      <th>6</th>\n",
       "      <td>160003130</td>\n",
       "      <td>OTHER OFFENSES</td>\n",
       "      <td>PAROLE VIOLATION</td>\n",
       "      <td>ARREST, BOOKED</td>\n",
       "    </tr>\n",
       "  </tbody>\n",
       "</table>\n",
       "</div>"
      ],
      "text/plain": [
       "   IncidntNum        Category                                        Descript  \\\n",
       "0   120058272     WEAPON LAWS                       POSS OF PROHIBITED WEAPON   \n",
       "1   120058272     WEAPON LAWS  FIREARM, LOADED, IN VEHICLE, POSSESSION OR USE   \n",
       "2   141059263        WARRANTS                                  WARRANT ARREST   \n",
       "5   160002869         ASSAULT                                         BATTERY   \n",
       "6   160003130  OTHER OFFENSES                                PAROLE VIOLATION   \n",
       "\n",
       "       Resolution  \n",
       "0  ARREST, BOOKED  \n",
       "1  ARREST, BOOKED  \n",
       "2  ARREST, BOOKED  \n",
       "5            NONE  \n",
       "6  ARREST, BOOKED  "
      ]
     },
     "execution_count": 6,
     "metadata": {},
     "output_type": "execute_result"
    }
   ],
   "source": [
    "#drop the columns that will not be used in our analysis\n",
    "labelstodrop = [\"X\",\"Y\",\"Address\",\"Time\",\"Date\", \"Location\",\"PdId\", \"PdDistrict\", \"DayOfWeek\"]\n",
    "data.drop(columns = labelstodrop, inplace = True)\n",
    "#get rid of any rows where the category is non criminal/missing person\n",
    "data = data[data.Category != 'NON-CRIMINAL']\n",
    "data = data[data.Category != 'MISSING PERSON']\n",
    "data = data[data.Category != 'RUNAWAY']\n",
    "data = data[data.Category != 'SUICIDE']\n",
    "data.head()"
   ]
  },
  {
   "cell_type": "markdown",
   "metadata": {},
   "source": [
    "here we use np.where to figure out how many of our crimes have NONE in the resolution category."
   ]
  },
  {
   "cell_type": "code",
   "execution_count": 7,
   "metadata": {},
   "outputs": [
    {
     "data": {
      "text/plain": [
       "array(['resolved', 'resolved', 'resolved', ..., 'unresolved',\n",
       "       'unresolved', 'unresolved'], dtype='<U10')"
      ]
     },
     "execution_count": 7,
     "metadata": {},
     "output_type": "execute_result"
    }
   ],
   "source": [
    "#use np.where to find how many resolved crimes vs nonresolved crimes there are\n",
    "mylist = np.where(data['Resolution'] == 'NONE', 'unresolved', 'resolved')\n",
    "mylist"
   ]
  },
  {
   "cell_type": "markdown",
   "metadata": {},
   "source": [
    "We use a counter from the collections library to tell us how many of each element are in our list (created in previous cell)"
   ]
  },
  {
   "cell_type": "code",
   "execution_count": 8,
   "metadata": {},
   "outputs": [
    {
     "data": {
      "text/plain": [
       "Counter({'resolved': 40214, 'unresolved': 87873})"
      ]
     },
     "execution_count": 8,
     "metadata": {},
     "output_type": "execute_result"
    }
   ],
   "source": [
    "import collections\n",
    "mycollection = collections.Counter(mylist)\n",
    "mycollection"
   ]
  },
  {
   "cell_type": "markdown",
   "metadata": {},
   "source": [
    "so we have 40214 crimes with resolution, and 87873 crimes without a resolution."
   ]
  },
  {
   "cell_type": "code",
   "execution_count": 9,
   "metadata": {},
   "outputs": [
    {
     "data": {
      "text/plain": [
       "0.686041518655289"
      ]
     },
     "execution_count": 9,
     "metadata": {},
     "output_type": "execute_result"
    }
   ],
   "source": [
    "mycollection['unresolved']/data['Category'].count()"
   ]
  },
  {
   "cell_type": "markdown",
   "metadata": {},
   "source": [
    "Here we can see around 69% of crimes have no resolution, we find this by dividing the number of unresolved crimes by the total number of crimes"
   ]
  },
  {
   "cell_type": "markdown",
   "metadata": {},
   "source": [
    "We initialize an empty dicitonary, and then use the same counter function we used earlier to go through out dataframe and see how many of each crime we have.  We then use the OrderedDict function to sort them alphabetically."
   ]
  },
  {
   "cell_type": "code",
   "execution_count": 10,
   "metadata": {},
   "outputs": [
    {
     "data": {
      "text/plain": [
       "OrderedDict([('ARSON', 286),\n",
       "             ('ASSAULT', 13577),\n",
       "             ('BAD CHECKS', 34),\n",
       "             ('BRIBERY', 66),\n",
       "             ('BURGLARY', 5802),\n",
       "             ('DISORDERLY CONDUCT', 658),\n",
       "             ('DRIVING UNDER THE INFLUENCE', 378),\n",
       "             ('DRUG/NARCOTIC', 4243),\n",
       "             ('DRUNKENNESS', 465),\n",
       "             ('EMBEZZLEMENT', 168),\n",
       "             ('EXTORTION', 60),\n",
       "             ('FAMILY OFFENSES', 53),\n",
       "             ('FORGERY/COUNTERFEITING', 619),\n",
       "             ('FRAUD', 2635),\n",
       "             ('GAMBLING', 20),\n",
       "             ('KIDNAPPING', 257),\n",
       "             ('LARCENY/THEFT', 40409),\n",
       "             ('LIQUOR LAWS', 156),\n",
       "             ('LOITERING', 42),\n",
       "             ('OTHER OFFENSES', 19599),\n",
       "             ('PORNOGRAPHY/OBSCENE MAT', 4),\n",
       "             ('PROSTITUTION', 641),\n",
       "             ('RECOVERED VEHICLE', 736),\n",
       "             ('ROBBERY', 3299),\n",
       "             ('SECONDARY CODES', 1841),\n",
       "             ('SEX OFFENSES, FORCIBLE', 940),\n",
       "             ('SEX OFFENSES, NON FORCIBLE', 40),\n",
       "             ('STOLEN PROPERTY', 882),\n",
       "             ('SUSPICIOUS OCC', 5782),\n",
       "             ('TREA', 3),\n",
       "             ('TRESPASS', 1812),\n",
       "             ('VANDALISM', 8589),\n",
       "             ('VEHICLE THEFT', 6419),\n",
       "             ('WARRANTS', 5914),\n",
       "             ('WEAPON LAWS', 1658)])"
      ]
     },
     "execution_count": 10,
     "metadata": {},
     "output_type": "execute_result"
    }
   ],
   "source": [
    "AllCrimeOccuranceDict = {}\n",
    "AllCrimeOccuranceDict = collections.Counter(data['Category'])\n",
    "AllCrimeOccuranceDict = collections.OrderedDict(sorted(AllCrimeOccuranceDict.items())) \n",
    "AllCrimeOccuranceDict"
   ]
  },
  {
   "cell_type": "markdown",
   "metadata": {},
   "source": [
    "We do some more data filtering here, we only keep the crimes with NONE under the resolution.  So now we have a dataframe of all of our unsolved crimes."
   ]
  },
  {
   "cell_type": "code",
   "execution_count": 11,
   "metadata": {
    "scrolled": true
   },
   "outputs": [
    {
     "data": {
      "text/html": [
       "<div>\n",
       "<style scoped>\n",
       "    .dataframe tbody tr th:only-of-type {\n",
       "        vertical-align: middle;\n",
       "    }\n",
       "\n",
       "    .dataframe tbody tr th {\n",
       "        vertical-align: top;\n",
       "    }\n",
       "\n",
       "    .dataframe thead th {\n",
       "        text-align: right;\n",
       "    }\n",
       "</style>\n",
       "<table border=\"1\" class=\"dataframe\">\n",
       "  <thead>\n",
       "    <tr style=\"text-align: right;\">\n",
       "      <th></th>\n",
       "      <th>IncidntNum</th>\n",
       "      <th>Category</th>\n",
       "      <th>Descript</th>\n",
       "      <th>Resolution</th>\n",
       "    </tr>\n",
       "  </thead>\n",
       "  <tbody>\n",
       "    <tr>\n",
       "      <th>5</th>\n",
       "      <td>160002869</td>\n",
       "      <td>ASSAULT</td>\n",
       "      <td>BATTERY</td>\n",
       "      <td>NONE</td>\n",
       "    </tr>\n",
       "    <tr>\n",
       "      <th>10</th>\n",
       "      <td>160086863</td>\n",
       "      <td>LARCENY/THEFT</td>\n",
       "      <td>ATTEMPTED THEFT FROM LOCKED VEHICLE</td>\n",
       "      <td>NONE</td>\n",
       "    </tr>\n",
       "    <tr>\n",
       "      <th>14</th>\n",
       "      <td>160004069</td>\n",
       "      <td>BURGLARY</td>\n",
       "      <td>BURGLARY,STORE UNDER CONSTRUCTION, FORCIBLE ENTRY</td>\n",
       "      <td>NONE</td>\n",
       "    </tr>\n",
       "    <tr>\n",
       "      <th>16</th>\n",
       "      <td>160004241</td>\n",
       "      <td>ROBBERY</td>\n",
       "      <td>ROBBERY, ARMED WITH A KNIFE</td>\n",
       "      <td>NONE</td>\n",
       "    </tr>\n",
       "    <tr>\n",
       "      <th>17</th>\n",
       "      <td>160004558</td>\n",
       "      <td>ASSAULT</td>\n",
       "      <td>BATTERY WITH SERIOUS INJURIES</td>\n",
       "      <td>NONE</td>\n",
       "    </tr>\n",
       "  </tbody>\n",
       "</table>\n",
       "</div>"
      ],
      "text/plain": [
       "    IncidntNum       Category  \\\n",
       "5    160002869        ASSAULT   \n",
       "10   160086863  LARCENY/THEFT   \n",
       "14   160004069       BURGLARY   \n",
       "16   160004241        ROBBERY   \n",
       "17   160004558        ASSAULT   \n",
       "\n",
       "                                             Descript Resolution  \n",
       "5                                             BATTERY       NONE  \n",
       "10                ATTEMPTED THEFT FROM LOCKED VEHICLE       NONE  \n",
       "14  BURGLARY,STORE UNDER CONSTRUCTION, FORCIBLE ENTRY       NONE  \n",
       "16                        ROBBERY, ARMED WITH A KNIFE       NONE  \n",
       "17                      BATTERY WITH SERIOUS INJURIES       NONE  "
      ]
     },
     "execution_count": 11,
     "metadata": {},
     "output_type": "execute_result"
    }
   ],
   "source": [
    "unresolvedData = data[data.Resolution == 'NONE']\n",
    "unresolvedData.head()"
   ]
  },
  {
   "cell_type": "markdown",
   "metadata": {},
   "source": [
    "As we did before, we use the counter function, but this time only counting the crimes with no resolution to them, we do the same OrderedDict function to sort them in alphabetical order"
   ]
  },
  {
   "cell_type": "code",
   "execution_count": 12,
   "metadata": {},
   "outputs": [
    {
     "data": {
      "text/plain": [
       "OrderedDict([('ARSON', 206),\n",
       "             ('ASSAULT', 7936),\n",
       "             ('BAD CHECKS', 32),\n",
       "             ('BRIBERY', 39),\n",
       "             ('BURGLARY', 4754),\n",
       "             ('DISORDERLY CONDUCT', 358),\n",
       "             ('DRIVING UNDER THE INFLUENCE', 18),\n",
       "             ('DRUG/NARCOTIC', 380),\n",
       "             ('DRUNKENNESS', 111),\n",
       "             ('EMBEZZLEMENT', 131),\n",
       "             ('EXTORTION', 57),\n",
       "             ('FAMILY OFFENSES', 26),\n",
       "             ('FORGERY/COUNTERFEITING', 403),\n",
       "             ('FRAUD', 2189),\n",
       "             ('GAMBLING', 8),\n",
       "             ('KIDNAPPING', 158),\n",
       "             ('LARCENY/THEFT', 38574),\n",
       "             ('LIQUOR LAWS', 14),\n",
       "             ('LOITERING', 20),\n",
       "             ('OTHER OFFENSES', 6969),\n",
       "             ('PORNOGRAPHY/OBSCENE MAT', 2),\n",
       "             ('PROSTITUTION', 70),\n",
       "             ('RECOVERED VEHICLE', 679),\n",
       "             ('ROBBERY', 2581),\n",
       "             ('SECONDARY CODES', 1203),\n",
       "             ('SEX OFFENSES, FORCIBLE', 674),\n",
       "             ('SEX OFFENSES, NON FORCIBLE', 22),\n",
       "             ('STOLEN PROPERTY', 72),\n",
       "             ('SUSPICIOUS OCC', 5207),\n",
       "             ('TREA', 2),\n",
       "             ('TRESPASS', 776),\n",
       "             ('VANDALISM', 7569),\n",
       "             ('VEHICLE THEFT', 5847),\n",
       "             ('WARRANTS', 354),\n",
       "             ('WEAPON LAWS', 432)])"
      ]
     },
     "execution_count": 12,
     "metadata": {},
     "output_type": "execute_result"
    }
   ],
   "source": [
    "unresolvedCrimeOccuranceDict = {}\n",
    "unresolvedCrimeOccuranceDict = collections.Counter(unresolvedData['Category'])\n",
    "unresolvedCrimeOccuranceDict = collections.OrderedDict(sorted(unresolvedCrimeOccuranceDict.items()))\n",
    "unresolvedCrimeOccuranceDict"
   ]
  },
  {
   "cell_type": "markdown",
   "metadata": {},
   "source": [
    "Here we are getting our keys from the previous dictionary and putting them into a list, we use the .Keys function to put them in a 0dict_keys object, we loop through that object in our loop and append each key to a variable called 'dictkeylist' which is a python list of all keys."
   ]
  },
  {
   "cell_type": "code",
   "execution_count": 13,
   "metadata": {},
   "outputs": [
    {
     "data": {
      "text/plain": [
       "['ARSON',\n",
       " 'ASSAULT',\n",
       " 'BAD CHECKS',\n",
       " 'BRIBERY',\n",
       " 'BURGLARY',\n",
       " 'DISORDERLY CONDUCT',\n",
       " 'DRIVING UNDER THE INFLUENCE',\n",
       " 'DRUG/NARCOTIC',\n",
       " 'DRUNKENNESS',\n",
       " 'EMBEZZLEMENT',\n",
       " 'EXTORTION',\n",
       " 'FAMILY OFFENSES',\n",
       " 'FORGERY/COUNTERFEITING',\n",
       " 'FRAUD',\n",
       " 'GAMBLING',\n",
       " 'KIDNAPPING',\n",
       " 'LARCENY/THEFT',\n",
       " 'LIQUOR LAWS',\n",
       " 'LOITERING',\n",
       " 'OTHER OFFENSES',\n",
       " 'PORNOGRAPHY/OBSCENE MAT',\n",
       " 'PROSTITUTION',\n",
       " 'RECOVERED VEHICLE',\n",
       " 'ROBBERY',\n",
       " 'SECONDARY CODES',\n",
       " 'SEX OFFENSES, FORCIBLE',\n",
       " 'SEX OFFENSES, NON FORCIBLE',\n",
       " 'STOLEN PROPERTY',\n",
       " 'SUSPICIOUS OCC',\n",
       " 'TREA',\n",
       " 'TRESPASS',\n",
       " 'VANDALISM',\n",
       " 'VEHICLE THEFT',\n",
       " 'WARRANTS',\n",
       " 'WEAPON LAWS']"
      ]
     },
     "execution_count": 13,
     "metadata": {},
     "output_type": "execute_result"
    }
   ],
   "source": [
    "dictkeys = unresolvedCrimeOccuranceDict.keys()\n",
    "dictkeylist = []\n",
    "for i in dictkeys:\n",
    "    dictkeylist.append(i)\n",
    "dictkeylist"
   ]
  },
  {
   "cell_type": "markdown",
   "metadata": {},
   "source": [
    "Now we get to compare out number of total crimes to our number of unsolved crimes.  We create a loop that goes through every index in our AllCrimeOccuranceDict and we get the number of crimes that are unsolved divided by the number of total crimes -- giving us a percetage of that certain crime that go unsolved"
   ]
  },
  {
   "cell_type": "code",
   "execution_count": 14,
   "metadata": {},
   "outputs": [
    {
     "data": {
      "text/plain": [
       "[0.7202797202797203,\n",
       " 0.5845179347425794,\n",
       " 0.9411764705882353,\n",
       " 0.5909090909090909,\n",
       " 0.8193726301275422,\n",
       " 0.5440729483282675,\n",
       " 0.047619047619047616,\n",
       " 0.0895592740985152,\n",
       " 0.23870967741935484,\n",
       " 0.7797619047619048,\n",
       " 0.95,\n",
       " 0.49056603773584906,\n",
       " 0.6510500807754442,\n",
       " 0.8307400379506641,\n",
       " 0.4,\n",
       " 0.6147859922178989,\n",
       " 0.9545893241604593,\n",
       " 0.08974358974358974,\n",
       " 0.47619047619047616,\n",
       " 0.3555793662941987,\n",
       " 0.5,\n",
       " 0.10920436817472699,\n",
       " 0.9225543478260869,\n",
       " 0.7823582903910276,\n",
       " 0.6534492123845737,\n",
       " 0.7170212765957447,\n",
       " 0.55,\n",
       " 0.08163265306122448,\n",
       " 0.9005534417156693,\n",
       " 0.6666666666666666,\n",
       " 0.4282560706401766,\n",
       " 0.8812434509256025,\n",
       " 0.910889546658358,\n",
       " 0.05985796415285763,\n",
       " 0.2605548854041013]"
      ]
     },
     "execution_count": 14,
     "metadata": {},
     "output_type": "execute_result"
    }
   ],
   "source": [
    "percList = []\n",
    "for x in AllCrimeOccuranceDict:\n",
    "    percList.append(unresolvedCrimeOccuranceDict[x]/AllCrimeOccuranceDict[x])\n",
    "percList\n"
   ]
  },
  {
   "cell_type": "markdown",
   "metadata": {},
   "source": [
    "We take this data and the keys we got earlier and put them in a dataframe, with our dictkeylist as our index.  We then sort the values by the lowest percentage, but the next line we reverse that search so we get the highest percentages first."
   ]
  },
  {
   "cell_type": "code",
   "execution_count": 15,
   "metadata": {},
   "outputs": [
    {
     "data": {
      "text/html": [
       "<div>\n",
       "<style scoped>\n",
       "    .dataframe tbody tr th:only-of-type {\n",
       "        vertical-align: middle;\n",
       "    }\n",
       "\n",
       "    .dataframe tbody tr th {\n",
       "        vertical-align: top;\n",
       "    }\n",
       "\n",
       "    .dataframe thead th {\n",
       "        text-align: right;\n",
       "    }\n",
       "</style>\n",
       "<table border=\"1\" class=\"dataframe\">\n",
       "  <thead>\n",
       "    <tr style=\"text-align: right;\">\n",
       "      <th></th>\n",
       "      <th>Percentage of Crimes Unresolved</th>\n",
       "    </tr>\n",
       "  </thead>\n",
       "  <tbody>\n",
       "    <tr>\n",
       "      <th>LARCENY/THEFT</th>\n",
       "      <td>0.954589</td>\n",
       "    </tr>\n",
       "    <tr>\n",
       "      <th>EXTORTION</th>\n",
       "      <td>0.950000</td>\n",
       "    </tr>\n",
       "    <tr>\n",
       "      <th>BAD CHECKS</th>\n",
       "      <td>0.941176</td>\n",
       "    </tr>\n",
       "    <tr>\n",
       "      <th>RECOVERED VEHICLE</th>\n",
       "      <td>0.922554</td>\n",
       "    </tr>\n",
       "    <tr>\n",
       "      <th>VEHICLE THEFT</th>\n",
       "      <td>0.910890</td>\n",
       "    </tr>\n",
       "    <tr>\n",
       "      <th>SUSPICIOUS OCC</th>\n",
       "      <td>0.900553</td>\n",
       "    </tr>\n",
       "    <tr>\n",
       "      <th>VANDALISM</th>\n",
       "      <td>0.881243</td>\n",
       "    </tr>\n",
       "    <tr>\n",
       "      <th>FRAUD</th>\n",
       "      <td>0.830740</td>\n",
       "    </tr>\n",
       "    <tr>\n",
       "      <th>BURGLARY</th>\n",
       "      <td>0.819373</td>\n",
       "    </tr>\n",
       "    <tr>\n",
       "      <th>ROBBERY</th>\n",
       "      <td>0.782358</td>\n",
       "    </tr>\n",
       "    <tr>\n",
       "      <th>EMBEZZLEMENT</th>\n",
       "      <td>0.779762</td>\n",
       "    </tr>\n",
       "    <tr>\n",
       "      <th>ARSON</th>\n",
       "      <td>0.720280</td>\n",
       "    </tr>\n",
       "    <tr>\n",
       "      <th>SEX OFFENSES, FORCIBLE</th>\n",
       "      <td>0.717021</td>\n",
       "    </tr>\n",
       "    <tr>\n",
       "      <th>TREA</th>\n",
       "      <td>0.666667</td>\n",
       "    </tr>\n",
       "    <tr>\n",
       "      <th>SECONDARY CODES</th>\n",
       "      <td>0.653449</td>\n",
       "    </tr>\n",
       "    <tr>\n",
       "      <th>FORGERY/COUNTERFEITING</th>\n",
       "      <td>0.651050</td>\n",
       "    </tr>\n",
       "    <tr>\n",
       "      <th>KIDNAPPING</th>\n",
       "      <td>0.614786</td>\n",
       "    </tr>\n",
       "    <tr>\n",
       "      <th>BRIBERY</th>\n",
       "      <td>0.590909</td>\n",
       "    </tr>\n",
       "    <tr>\n",
       "      <th>ASSAULT</th>\n",
       "      <td>0.584518</td>\n",
       "    </tr>\n",
       "    <tr>\n",
       "      <th>SEX OFFENSES, NON FORCIBLE</th>\n",
       "      <td>0.550000</td>\n",
       "    </tr>\n",
       "    <tr>\n",
       "      <th>DISORDERLY CONDUCT</th>\n",
       "      <td>0.544073</td>\n",
       "    </tr>\n",
       "    <tr>\n",
       "      <th>PORNOGRAPHY/OBSCENE MAT</th>\n",
       "      <td>0.500000</td>\n",
       "    </tr>\n",
       "    <tr>\n",
       "      <th>FAMILY OFFENSES</th>\n",
       "      <td>0.490566</td>\n",
       "    </tr>\n",
       "    <tr>\n",
       "      <th>LOITERING</th>\n",
       "      <td>0.476190</td>\n",
       "    </tr>\n",
       "    <tr>\n",
       "      <th>TRESPASS</th>\n",
       "      <td>0.428256</td>\n",
       "    </tr>\n",
       "    <tr>\n",
       "      <th>GAMBLING</th>\n",
       "      <td>0.400000</td>\n",
       "    </tr>\n",
       "    <tr>\n",
       "      <th>OTHER OFFENSES</th>\n",
       "      <td>0.355579</td>\n",
       "    </tr>\n",
       "    <tr>\n",
       "      <th>WEAPON LAWS</th>\n",
       "      <td>0.260555</td>\n",
       "    </tr>\n",
       "    <tr>\n",
       "      <th>DRUNKENNESS</th>\n",
       "      <td>0.238710</td>\n",
       "    </tr>\n",
       "    <tr>\n",
       "      <th>PROSTITUTION</th>\n",
       "      <td>0.109204</td>\n",
       "    </tr>\n",
       "    <tr>\n",
       "      <th>LIQUOR LAWS</th>\n",
       "      <td>0.089744</td>\n",
       "    </tr>\n",
       "    <tr>\n",
       "      <th>DRUG/NARCOTIC</th>\n",
       "      <td>0.089559</td>\n",
       "    </tr>\n",
       "    <tr>\n",
       "      <th>STOLEN PROPERTY</th>\n",
       "      <td>0.081633</td>\n",
       "    </tr>\n",
       "    <tr>\n",
       "      <th>WARRANTS</th>\n",
       "      <td>0.059858</td>\n",
       "    </tr>\n",
       "    <tr>\n",
       "      <th>DRIVING UNDER THE INFLUENCE</th>\n",
       "      <td>0.047619</td>\n",
       "    </tr>\n",
       "  </tbody>\n",
       "</table>\n",
       "</div>"
      ],
      "text/plain": [
       "                             Percentage of Crimes Unresolved\n",
       "LARCENY/THEFT                                       0.954589\n",
       "EXTORTION                                           0.950000\n",
       "BAD CHECKS                                          0.941176\n",
       "RECOVERED VEHICLE                                   0.922554\n",
       "VEHICLE THEFT                                       0.910890\n",
       "SUSPICIOUS OCC                                      0.900553\n",
       "VANDALISM                                           0.881243\n",
       "FRAUD                                               0.830740\n",
       "BURGLARY                                            0.819373\n",
       "ROBBERY                                             0.782358\n",
       "EMBEZZLEMENT                                        0.779762\n",
       "ARSON                                               0.720280\n",
       "SEX OFFENSES, FORCIBLE                              0.717021\n",
       "TREA                                                0.666667\n",
       "SECONDARY CODES                                     0.653449\n",
       "FORGERY/COUNTERFEITING                              0.651050\n",
       "KIDNAPPING                                          0.614786\n",
       "BRIBERY                                             0.590909\n",
       "ASSAULT                                             0.584518\n",
       "SEX OFFENSES, NON FORCIBLE                          0.550000\n",
       "DISORDERLY CONDUCT                                  0.544073\n",
       "PORNOGRAPHY/OBSCENE MAT                             0.500000\n",
       "FAMILY OFFENSES                                     0.490566\n",
       "LOITERING                                           0.476190\n",
       "TRESPASS                                            0.428256\n",
       "GAMBLING                                            0.400000\n",
       "OTHER OFFENSES                                      0.355579\n",
       "WEAPON LAWS                                         0.260555\n",
       "DRUNKENNESS                                         0.238710\n",
       "PROSTITUTION                                        0.109204\n",
       "LIQUOR LAWS                                         0.089744\n",
       "DRUG/NARCOTIC                                       0.089559\n",
       "STOLEN PROPERTY                                     0.081633\n",
       "WARRANTS                                            0.059858\n",
       "DRIVING UNDER THE INFLUENCE                         0.047619"
      ]
     },
     "execution_count": 15,
     "metadata": {},
     "output_type": "execute_result"
    }
   ],
   "source": [
    "percentageData = pd.DataFrame(index = dictkeylist)\n",
    "percentageData['Percentage of Crimes Unresolved'] = percList\n",
    "percentageData.sort_values(by = ['Percentage of Crimes Unresolved'], inplace = True)\n",
    "percentageData=percentageData.reindex(index=percentageData.index[::-1])\n",
    "percentageData"
   ]
  },
  {
   "cell_type": "markdown",
   "metadata": {},
   "source": [
    "Here we slice our data from the previous dataframe, this is so our graph isnt so cluttered"
   ]
  },
  {
   "cell_type": "code",
   "execution_count": 16,
   "metadata": {},
   "outputs": [
    {
     "data": {
      "text/html": [
       "<div>\n",
       "<style scoped>\n",
       "    .dataframe tbody tr th:only-of-type {\n",
       "        vertical-align: middle;\n",
       "    }\n",
       "\n",
       "    .dataframe tbody tr th {\n",
       "        vertical-align: top;\n",
       "    }\n",
       "\n",
       "    .dataframe thead th {\n",
       "        text-align: right;\n",
       "    }\n",
       "</style>\n",
       "<table border=\"1\" class=\"dataframe\">\n",
       "  <thead>\n",
       "    <tr style=\"text-align: right;\">\n",
       "      <th></th>\n",
       "      <th>Percentage of Crimes Unresolved</th>\n",
       "    </tr>\n",
       "  </thead>\n",
       "  <tbody>\n",
       "    <tr>\n",
       "      <th>LARCENY/THEFT</th>\n",
       "      <td>0.954589</td>\n",
       "    </tr>\n",
       "    <tr>\n",
       "      <th>EXTORTION</th>\n",
       "      <td>0.950000</td>\n",
       "    </tr>\n",
       "    <tr>\n",
       "      <th>BAD CHECKS</th>\n",
       "      <td>0.941176</td>\n",
       "    </tr>\n",
       "    <tr>\n",
       "      <th>RECOVERED VEHICLE</th>\n",
       "      <td>0.922554</td>\n",
       "    </tr>\n",
       "    <tr>\n",
       "      <th>VEHICLE THEFT</th>\n",
       "      <td>0.910890</td>\n",
       "    </tr>\n",
       "    <tr>\n",
       "      <th>SUSPICIOUS OCC</th>\n",
       "      <td>0.900553</td>\n",
       "    </tr>\n",
       "    <tr>\n",
       "      <th>VANDALISM</th>\n",
       "      <td>0.881243</td>\n",
       "    </tr>\n",
       "    <tr>\n",
       "      <th>FRAUD</th>\n",
       "      <td>0.830740</td>\n",
       "    </tr>\n",
       "    <tr>\n",
       "      <th>BURGLARY</th>\n",
       "      <td>0.819373</td>\n",
       "    </tr>\n",
       "    <tr>\n",
       "      <th>ROBBERY</th>\n",
       "      <td>0.782358</td>\n",
       "    </tr>\n",
       "    <tr>\n",
       "      <th>EMBEZZLEMENT</th>\n",
       "      <td>0.779762</td>\n",
       "    </tr>\n",
       "    <tr>\n",
       "      <th>ARSON</th>\n",
       "      <td>0.720280</td>\n",
       "    </tr>\n",
       "    <tr>\n",
       "      <th>SEX OFFENSES, FORCIBLE</th>\n",
       "      <td>0.717021</td>\n",
       "    </tr>\n",
       "    <tr>\n",
       "      <th>TREA</th>\n",
       "      <td>0.666667</td>\n",
       "    </tr>\n",
       "    <tr>\n",
       "      <th>SECONDARY CODES</th>\n",
       "      <td>0.653449</td>\n",
       "    </tr>\n",
       "    <tr>\n",
       "      <th>FORGERY/COUNTERFEITING</th>\n",
       "      <td>0.651050</td>\n",
       "    </tr>\n",
       "    <tr>\n",
       "      <th>KIDNAPPING</th>\n",
       "      <td>0.614786</td>\n",
       "    </tr>\n",
       "    <tr>\n",
       "      <th>BRIBERY</th>\n",
       "      <td>0.590909</td>\n",
       "    </tr>\n",
       "    <tr>\n",
       "      <th>ASSAULT</th>\n",
       "      <td>0.584518</td>\n",
       "    </tr>\n",
       "    <tr>\n",
       "      <th>SEX OFFENSES, NON FORCIBLE</th>\n",
       "      <td>0.550000</td>\n",
       "    </tr>\n",
       "  </tbody>\n",
       "</table>\n",
       "</div>"
      ],
      "text/plain": [
       "                            Percentage of Crimes Unresolved\n",
       "LARCENY/THEFT                                      0.954589\n",
       "EXTORTION                                          0.950000\n",
       "BAD CHECKS                                         0.941176\n",
       "RECOVERED VEHICLE                                  0.922554\n",
       "VEHICLE THEFT                                      0.910890\n",
       "SUSPICIOUS OCC                                     0.900553\n",
       "VANDALISM                                          0.881243\n",
       "FRAUD                                              0.830740\n",
       "BURGLARY                                           0.819373\n",
       "ROBBERY                                            0.782358\n",
       "EMBEZZLEMENT                                       0.779762\n",
       "ARSON                                              0.720280\n",
       "SEX OFFENSES, FORCIBLE                             0.717021\n",
       "TREA                                               0.666667\n",
       "SECONDARY CODES                                    0.653449\n",
       "FORGERY/COUNTERFEITING                             0.651050\n",
       "KIDNAPPING                                         0.614786\n",
       "BRIBERY                                            0.590909\n",
       "ASSAULT                                            0.584518\n",
       "SEX OFFENSES, NON FORCIBLE                         0.550000"
      ]
     },
     "execution_count": 16,
     "metadata": {},
     "output_type": "execute_result"
    }
   ],
   "source": [
    "slicedData = percentageData[:20]\n",
    "slicedData"
   ]
  },
  {
   "cell_type": "markdown",
   "metadata": {},
   "source": [
    "Finally we plot the data in a bar plot, showing the top 20 crimes that go unsolved in San Francisco, as well as what percentage of said crimes go unresolved."
   ]
  },
  {
   "cell_type": "code",
   "execution_count": 17,
   "metadata": {},
   "outputs": [
    {
     "data": {
      "text/plain": [
       "<matplotlib.axes._subplots.AxesSubplot at 0x221566205e0>"
      ]
     },
     "execution_count": 17,
     "metadata": {},
     "output_type": "execute_result"
    },
    {
     "data": {
      "image/png": "[encoded data removed]",
      "text/plain": [
       "<Figure size 1080x360 with 1 Axes>"
      ]
     },
     "metadata": {
      "needs_background": "light"
     },
     "output_type": "display_data"
    }
   ],
   "source": [
    "slicedData.plot.bar(figsize = (15,5), title = 'Top 20 Percentages of Unresolved Crimes in San Francisco', yticks = np.arange(0,1,.1))"
   ]
  },
  {
   "cell_type": "code",
   "execution_count": null,
   "metadata": {},
   "outputs": [],
   "source": []
  },
  {
   "cell_type": "code",
   "execution_count": null,
   "metadata": {},
   "outputs": [],
   "source": []
  }
 ],
 "metadata": {
  "kernelspec": {
   "display_name": "Python 3",
   "language": "python",
   "name": "python3"
  },
  "language_info": {
   "codemirror_mode": {
    "name": "ipython",
    "version": 3
   },
   "file_extension": ".py",
   "mimetype": "text/x-python",
   "name": "python",
   "nbconvert_exporter": "python",
   "pygments_lexer": "ipython3",
   "version": "3.8.3"
  }
 },
 "nbformat": 4,
 "nbformat_minor": 4
}
